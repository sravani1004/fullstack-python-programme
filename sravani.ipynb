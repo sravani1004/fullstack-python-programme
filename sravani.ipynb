{
 "cells": [
  {
   "cell_type": "code",
   "execution_count": 2,
   "id": "4ccee439-6b01-4d2e-a13f-9cf48bd953a3",
   "metadata": {},
   "outputs": [
    {
     "name": "stdout",
     "output_type": "stream",
     "text": [
      "<class 'int'> <class 'float'> <class 'str'> <class 'bool'>\n"
     ]
    }
   ],
   "source": [
    "x=10\n",
    "y=3.14\n",
    "z=\"python\"\n",
    "flag=False\n",
    "print(type(x),type(y),type(z),type(flag))"
   ]
  },
  {
   "cell_type": "code",
   "execution_count": 3,
   "id": "3d9cd14e-c8a9-4ae0-835c-5304d6b57b39",
   "metadata": {},
   "outputs": [
    {
     "name": "stdout",
     "output_type": "stream",
     "text": [
      "sravani avinash college of commerce python\n"
     ]
    }
   ],
   "source": [
    "name=\"sravani\"\n",
    "college=\"avinash college of commerce\"\n",
    "print(name,college,favorite_programming_language)"
   ]
  },
  {
   "cell_type": "code",
   "execution_count": 4,
   "id": "bace7310-cc2f-429a-8ba7-88c1cfd9d5f4",
   "metadata": {},
   "outputs": [
    {
     "name": "stdout",
     "output_type": "stream",
     "text": [
      "18\n"
     ]
    }
   ],
   "source": [
    "current_year=2025\n",
    "birth_year=2007\n",
    "print(current_year-birth_year)"
   ]
  },
  {
   "cell_type": "code",
   "execution_count": 7,
   "id": "12d7856f-c43b-4940-ac67-344116ea7cfb",
   "metadata": {},
   "outputs": [
    {
     "name": "stdout",
     "output_type": "stream",
     "text": [
      "final destination-bloodlines 2025\n"
     ]
    }
   ],
   "source": [
    "Favorite_movie_name=\"final destination-bloodlines\"\n",
    "Release_year=2025\n",
    "print(Favorite_movie_name,Release_year)"
   ]
  },
  {
   "cell_type": "code",
   "execution_count": 8,
   "id": "92330513-7aeb-4382-ad74-d9810233f66f",
   "metadata": {},
   "outputs": [
    {
     "name": "stdout",
     "output_type": "stream",
     "text": [
      "Addition: 19\n"
     ]
    }
   ],
   "source": [
    "a=15\n",
    "b=4\n",
    "print(\"Addition:\",a+b)\n"
   ]
  },
  {
   "cell_type": "code",
   "execution_count": 9,
   "id": "a38992d7-017a-4031-8946-7cd1f4a44b30",
   "metadata": {},
   "outputs": [
    {
     "name": "stdout",
     "output_type": "stream",
     "text": [
      "Division: 3.75\n"
     ]
    }
   ],
   "source": [
    "a=15\n",
    "b=4\n",
    "print(\"Division:\",a/b)"
   ]
  },
  {
   "cell_type": "code",
   "execution_count": 11,
   "id": "7c2e5c89-40d9-4e85-a7b5-874182de8f68",
   "metadata": {},
   "outputs": [
    {
     "name": "stdout",
     "output_type": "stream",
     "text": [
      "floor division: 3\n"
     ]
    }
   ],
   "source": [
    "a=15\n",
    "b=4\n",
    "print(\"floor division:\",a//b)"
   ]
  },
  {
   "cell_type": "code",
   "execution_count": 12,
   "id": "bd78de39-50f2-4d37-9abe-800b62627ec1",
   "metadata": {},
   "outputs": [
    {
     "name": "stdout",
     "output_type": "stream",
     "text": [
      "power: 50625\n"
     ]
    }
   ],
   "source": [
    "a=15\n",
    "b=4\n",
    "print(\"power:\",a**b)"
   ]
  },
  {
   "cell_type": "code",
   "execution_count": 4,
   "id": "29ff0afe-0eb5-4e9d-be2f-5fa76e292936",
   "metadata": {},
   "outputs": [
    {
     "name": "stdout",
     "output_type": "stream",
     "text": [
      "False\n",
      "True\n",
      "True\n"
     ]
    }
   ],
   "source": [
    "a=10\n",
    "b=20\n",
    "print(a>b) #false\n",
    "print(a==10) #true \n",
    "print((a<b) and (b==20)) #true"
   ]
  },
  {
   "cell_type": "raw",
   "id": "9a8767e0-ddca-4da4-a2a8-ea08fe7e7058",
   "metadata": {},
   "source": []
  }
 ],
 "metadata": {
  "kernelspec": {
   "display_name": "Python [conda env:base] *",
   "language": "python",
   "name": "conda-base-py"
  },
  "language_info": {
   "codemirror_mode": {
    "name": "ipython",
    "version": 3
   },
   "file_extension": ".py",
   "mimetype": "text/x-python",
   "name": "python",
   "nbconvert_exporter": "python",
   "pygments_lexer": "ipython3",
   "version": "3.13.5"
  }
 },
 "nbformat": 4,
 "nbformat_minor": 5
}
