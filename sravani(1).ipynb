{
 "cells": [
  {
   "cell_type": "code",
   "execution_count": 2,
   "id": "4ccee439-6b01-4d2e-a13f-9cf48bd953a3",
   "metadata": {},
   "outputs": [
    {
     "name": "stdout",
     "output_type": "stream",
     "text": [
      "<class 'int'> <class 'float'> <class 'str'> <class 'bool'>\n"
     ]
    }
   ],
   "source": [
    "x=10\n",
    "y=3.14\n",
    "z=\"python\"\n",
    "flag=False\n",
    "print(type(x),type(y),type(z),type(flag))"
   ]
  },
  {
   "cell_type": "code",
   "execution_count": 3,
   "id": "3d9cd14e-c8a9-4ae0-835c-5304d6b57b39",
   "metadata": {},
   "outputs": [
    {
     "name": "stdout",
     "output_type": "stream",
     "text": [
      "sravani avinash college of commerce python\n"
     ]
    }
   ],
   "source": [
    "name=\"sravani\"\n",
    "college=\"avinash college of commerce\"\n",
    "print(name,college,favorite_programming_language)"
   ]
  },
  {
   "cell_type": "code",
   "execution_count": 4,
   "id": "bace7310-cc2f-429a-8ba7-88c1cfd9d5f4",
   "metadata": {},
   "outputs": [
    {
     "name": "stdout",
     "output_type": "stream",
     "text": [
      "18\n"
     ]
    }
   ],
   "source": [
    "current_year=2025\n",
    "birth_year=2007\n",
    "print(current_year-birth_year)"
   ]
  },
  {
   "cell_type": "code",
   "execution_count": 7,
   "id": "12d7856f-c43b-4940-ac67-344116ea7cfb",
   "metadata": {},
   "outputs": [
    {
     "name": "stdout",
     "output_type": "stream",
     "text": [
      "final destination-bloodlines 2025\n"
     ]
    }
   ],
   "source": [
    "Favorite_movie_name=\"final destination-bloodlines\"\n",
    "Release_year=2025\n",
    "print(Favorite_movie_name,Release_year)"
   ]
  },
  {
   "cell_type": "code",
   "execution_count": 8,
   "id": "92330513-7aeb-4382-ad74-d9810233f66f",
   "metadata": {},
   "outputs": [
    {
     "name": "stdout",
     "output_type": "stream",
     "text": [
      "Addition: 19\n"
     ]
    }
   ],
   "source": [
    "a=15\n",
    "b=4\n",
    "print(\"Addition:\",a+b)\n"
   ]
  },
  {
   "cell_type": "code",
   "execution_count": 9,
   "id": "a38992d7-017a-4031-8946-7cd1f4a44b30",
   "metadata": {},
   "outputs": [
    {
     "name": "stdout",
     "output_type": "stream",
     "text": [
      "Division: 3.75\n"
     ]
    }
   ],
   "source": [
    "a=15\n",
    "b=4\n",
    "print(\"Division:\",a/b)"
   ]
  },
  {
   "cell_type": "code",
   "execution_count": 11,
   "id": "7c2e5c89-40d9-4e85-a7b5-874182de8f68",
   "metadata": {},
   "outputs": [
    {
     "name": "stdout",
     "output_type": "stream",
     "text": [
      "floor division: 3\n"
     ]
    }
   ],
   "source": [
    "a=15\n",
    "b=4\n",
    "print(\"floor division:\",a//b)"
   ]
  },
  {
   "cell_type": "code",
   "execution_count": 12,
   "id": "bd78de39-50f2-4d37-9abe-800b62627ec1",
   "metadata": {},
   "outputs": [
    {
     "name": "stdout",
     "output_type": "stream",
     "text": [
      "power: 50625\n"
     ]
    }
   ],
   "source": [
    "a=15\n",
    "b=4\n",
    "print(\"power:\",a**b)"
   ]
  },
  {
   "cell_type": "code",
   "execution_count": 1,
   "id": "29ff0afe-0eb5-4e9d-be2f-5fa76e292936",
   "metadata": {},
   "outputs": [
    {
     "name": "stdout",
     "output_type": "stream",
     "text": [
      "False\n",
      "True\n",
      "True\n"
     ]
    }
   ],
   "source": [
    "a=10\n",
    "b=20\n",
    "print(a>b) #false\n",
    "print(a==10) #true \n",
    "print((a<b) and (b==20)) #true"
   ]
  },
  {
   "cell_type": "code",
   "execution_count": 3,
   "id": "48cc6d9f-c397-4440-8bbb-df39eea2e4d5",
   "metadata": {},
   "outputs": [
    {
     "name": "stdout",
     "output_type": "stream",
     "text": [
      "['conjuring 1', 'conjuring 2', 'conjuring last rites', 'final destination']\n",
      "conjuring 2\n"
     ]
    }
   ],
   "source": [
    "films=[\"conjuring 1\", \"conjuring 2\",\"conjuring last rites\"]\n",
    "films.append(\"final destination\")\n",
    "print(films)\n",
    "print(films[1])"
   ]
  },
  {
   "cell_type": "code",
   "execution_count": 4,
   "id": "70a9f47a-53a7-4c32-9dfa-2753d68a76fe",
   "metadata": {},
   "outputs": [
    {
     "name": "stdout",
     "output_type": "stream",
     "text": [
      "['ek dilruba hai', 'attu nuvve', 'no love']\n",
      "attu nuvve\n"
     ]
    }
   ],
   "source": [
    "songs=[\"ek dilruba hai\",\"hoyna\",\"attu nuvve\"]\n",
    "songs.append(\"no love\")\n",
    "songs.remove(\"hoyna\")\n",
    "print(songs)\n",
    "print(songs[1])"
   ]
  },
  {
   "cell_type": "code",
   "execution_count": 6,
   "id": "07a7d084-d45e-486a-912f-2ca3827c9235",
   "metadata": {},
   "outputs": [
    {
     "name": "stdout",
     "output_type": "stream",
     "text": [
      "atlee\n"
     ]
    }
   ],
   "source": [
    "directors=(\"sandeep reddy vanga\",\"atlee\",\"trivikram\")\n",
    "print(directors[1])\n",
    "#directors[0]=\"guna shankar\""
   ]
  },
  {
   "cell_type": "code",
   "execution_count": 10,
   "id": "ffe4702a-e65e-480f-8502-78ab09982320",
   "metadata": {},
   "outputs": [
    {
     "name": "stdout",
     "output_type": "stream",
     "text": [
      "{1, 2, 3, 4, 5}\n"
     ]
    }
   ],
   "source": [
    "numbers={1,2,3,3,4}\n",
    "numbers.add(5)\n",
    "print(numbers)"
   ]
  },
  {
   "cell_type": "code",
   "execution_count": 22,
   "id": "336b82ea-39da-47c0-89b0-8ffc6c5c9d1b",
   "metadata": {},
   "outputs": [
    {
     "name": "stdout",
     "output_type": "stream",
     "text": [
      "dict_keys(['name', 'age', 'course', 'college'])\n",
      "dict_values(['sravani goud', 17, 'python workshop', 'avinash college of comerce'])\n",
      "sravani goud\n",
      "{'name': 'sravani goud', 'age': 18, 'course': 'python workshop', 'college': 'avinash college of comerce'}\n"
     ]
    }
   ],
   "source": [
    "student= {\n",
    "    \"name\":\"sravani goud\",\n",
    "    \"age\":17,\n",
    "    \"course\":\"python workshop\"\n",
    "}\n",
    "student[\"college\"]=\"avinash college of comerce\"\n",
    "print(student.keys())\n",
    "print(student.values())\n",
    "print(student[\"name\"])\n",
    "student[\"age\"]=18\n",
    "print(student)"
   ]
  },
  {
   "cell_type": "code",
   "execution_count": 26,
   "id": "021f5071-3255-4a80-a76b-b3fa13884fdc",
   "metadata": {},
   "outputs": [
    {
     "name": "stdout",
     "output_type": "stream",
     "text": [
      "Grade:A\n"
     ]
    }
   ],
   "source": [
    " marks=100\n",
    "if marks>=90:\n",
    "    print(\"Grade:A\")\n",
    "elif marks>=75:\n",
    "    print(\"Grade:B\")\n",
    "elif marks>=50:\n",
    "    print(\"Grade:C\")\n",
    "else:\n",
    "    print(\"Grade:fail\")"
   ]
  },
  {
   "cell_type": "code",
   "execution_count": 31,
   "id": "3191e39f-97e4-438e-ad7d-b98ca4e0b53d",
   "metadata": {},
   "outputs": [
    {
     "name": "stdout",
     "output_type": "stream",
     "text": [
      "numbers: 1\n",
      "numbers: 2\n",
      "numbers: 3\n",
      "numbers: 4\n",
      "numbers: 5\n"
     ]
    }
   ],
   "source": [
    "for i in range (1, 6):\n",
    "  print(\"numbers:\",i)"
   ]
  },
  {
   "cell_type": "code",
   "execution_count": 32,
   "id": "01f7f1c6-b785-45eb-aca9-d87210fe8778",
   "metadata": {},
   "outputs": [
    {
     "name": "stdout",
     "output_type": "stream",
     "text": [
      "count: 1\n",
      "count: 2\n",
      "count: 3\n",
      "count: 4\n",
      "count: 5\n"
     ]
    }
   ],
   "source": [
    "count = 1\n",
    "while count <= 5:\n",
    "    print(\"count:\",count)\n",
    "    count+= 1"
   ]
  },
  {
   "cell_type": "code",
   "execution_count": 40,
   "id": "121cc464-fc0a-4875-ae45-5e23723fddb7",
   "metadata": {},
   "outputs": [
    {
     "name": "stdout",
     "output_type": "stream",
     "text": [
      "count: 9\n",
      "1\n",
      "2\n",
      "3\n",
      "4\n"
     ]
    }
   ],
   "source": [
    "print(\"count:\", count)\n",
    "count += 1\n",
    "for i in range(1,10):\n",
    "    if i==5:\n",
    "        break #stoploop\n",
    "    print(i)"
   ]
  },
  {
   "cell_type": "code",
   "execution_count": null,
   "id": "be9b72a1-91e6-4541-b7f2-be025348fd5c",
   "metadata": {},
   "outputs": [],
   "source": []
  }
 ],
 "metadata": {
  "kernelspec": {
   "display_name": "Python [conda env:base] *",
   "language": "python",
   "name": "conda-base-py"
  },
  "language_info": {
   "codemirror_mode": {
    "name": "ipython",
    "version": 3
   },
   "file_extension": ".py",
   "mimetype": "text/x-python",
   "name": "python",
   "nbconvert_exporter": "python",
   "pygments_lexer": "ipython3",
   "version": "3.13.5"
  }
 },
 "nbformat": 4,
 "nbformat_minor": 5
}
